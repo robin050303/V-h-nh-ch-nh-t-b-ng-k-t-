{
 "cells": [
  {
   "cell_type": "code",
   "execution_count": 9,
   "id": "e2164b58",
   "metadata": {},
   "outputs": [
    {
     "name": "stdout",
     "output_type": "stream",
     "text": [
      "Nhap char: *\n",
      "Chieu rong: 30\n",
      "Chieu cao: 10\n",
      "******************************\n",
      "*                            *\n",
      "*                            *\n",
      "*                            *\n",
      "*                            *\n",
      "*                            *\n",
      "*                            *\n",
      "*                            *\n",
      "*                            *\n",
      "******************************\n"
     ]
    }
   ],
   "source": [
    "char = input(\"Nhap char: \")\n",
    "width = int(input(\"Chieu rong: \"))\n",
    "height = int(input(\"Chieu cao: \"))\n",
    "\n",
    "for i in range(1,height + 1):\n",
    "    print_str = ''\n",
    "    for j in range(1,width + 1):\n",
    "        if i == 1 or i == height:\n",
    "            print_str += char\n",
    "        else:\n",
    "            if j == 1 or j == width:\n",
    "                print_str += char\n",
    "            else:\n",
    "                print_str += ' '\n",
    "    print(print_str)"
   ]
  }
 ],
 "metadata": {
  "kernelspec": {
   "display_name": "Python 3 (ipykernel)",
   "language": "python",
   "name": "python3"
  },
  "language_info": {
   "codemirror_mode": {
    "name": "ipython",
    "version": 3
   },
   "file_extension": ".py",
   "mimetype": "text/x-python",
   "name": "python",
   "nbconvert_exporter": "python",
   "pygments_lexer": "ipython3",
   "version": "3.9.5"
  }
 },
 "nbformat": 4,
 "nbformat_minor": 5
}
